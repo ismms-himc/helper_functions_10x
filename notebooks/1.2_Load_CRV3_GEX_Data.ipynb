{
 "cells": [
  {
   "cell_type": "markdown",
   "metadata": {},
   "source": [
    "# 1.2 Load CRV3 GEX Data\n",
    "\n",
    "MTX -> Sparse in-memory Format -> DataFrame (dense)"
   ]
  },
  {
   "cell_type": "code",
   "execution_count": 23,
   "metadata": {},
   "outputs": [],
   "source": [
    "from clustergrammer2 import net"
   ]
  },
  {
   "cell_type": "code",
   "execution_count": 24,
   "metadata": {},
   "outputs": [],
   "source": [
    "import os\n",
    "os.getcwd()\n",
    "import himc_helper_functions"
   ]
  },
  {
   "cell_type": "code",
   "execution_count": 25,
   "metadata": {},
   "outputs": [],
   "source": [
    "import pandas as pd\n",
    "import himc_helper_functions as hf\n",
    "\n",
    "from typing import Dict\n",
    "\n",
    "# explicitly declare we're using a dictionary of DataFrames\n",
    "df:Dict[str,pd.DataFrame] = {}"
   ]
  },
  {
   "cell_type": "markdown",
   "metadata": {},
   "source": [
    "### Load GEX Data into DataFrame"
   ]
  },
  {
   "cell_type": "code",
   "execution_count": 26,
   "metadata": {},
   "outputs": [],
   "source": [
    "version=1\n",
    "feature_data = hf.load_crv3_feature_matrix('../data/LW5-2-{}/'.format(version))"
   ]
  },
  {
   "cell_type": "code",
   "execution_count": 27,
   "metadata": {},
   "outputs": [
    {
     "data": {
      "text/plain": [
       "dict_keys(['adt'])"
      ]
     },
     "execution_count": 27,
     "metadata": {},
     "output_type": "execute_result"
    }
   ],
   "source": [
    "feature_data.keys()"
   ]
  },
  {
   "cell_type": "code",
   "execution_count": 28,
   "metadata": {},
   "outputs": [
    {
     "name": "stdout",
     "output_type": "stream",
     "text": [
      "adt\n",
      "21 737280\n",
      "(21, 737280) \n",
      "\n"
     ]
    }
   ],
   "source": [
    "hf.check_feature_data_size(feature_data)"
   ]
  },
  {
   "cell_type": "code",
   "execution_count": null,
   "metadata": {},
   "outputs": [],
   "source": [
    "df = hf.convert_feature_data_to_df_dict(feature_data)"
   ]
  },
  {
   "cell_type": "code",
   "execution_count": null,
   "metadata": {},
   "outputs": [],
   "source": [
    "df.keys()"
   ]
  },
  {
   "cell_type": "code",
   "execution_count": 10,
   "metadata": {},
   "outputs": [
    {
     "data": {
      "text/plain": [
       "(33538, 7865)"
      ]
     },
     "execution_count": 10,
     "metadata": {},
     "output_type": "execute_result"
    }
   ],
   "source": [
    "df['gex'].shape"
   ]
  },
  {
   "cell_type": "code",
   "execution_count": 11,
   "metadata": {},
   "outputs": [
    {
     "data": {
      "text/html": [
       "<div>\n",
       "<style scoped>\n",
       "    .dataframe tbody tr th:only-of-type {\n",
       "        vertical-align: middle;\n",
       "    }\n",
       "\n",
       "    .dataframe tbody tr th {\n",
       "        vertical-align: top;\n",
       "    }\n",
       "\n",
       "    .dataframe thead th {\n",
       "        text-align: right;\n",
       "    }\n",
       "</style>\n",
       "<table border=\"1\" class=\"dataframe\">\n",
       "  <thead>\n",
       "    <tr style=\"text-align: right;\">\n",
       "      <th></th>\n",
       "      <th>AAACCCAAGATTGTGA</th>\n",
       "      <th>AAACCCACATCGGTTA</th>\n",
       "      <th>AAACCCAGTACCGCGT</th>\n",
       "      <th>AAACCCAGTATCGAAA</th>\n",
       "      <th>AAACCCAGTCGTCATA</th>\n",
       "      <th>AAACCCAGTCTACACA</th>\n",
       "      <th>AAACCCAGTGCAAGAC</th>\n",
       "      <th>AAACCCAGTGCATTTG</th>\n",
       "      <th>AAACCCATCCGATGTA</th>\n",
       "      <th>AAACCCATCTCAACGA</th>\n",
       "      <th>...</th>\n",
       "      <th>TTTGTTGAGGCCACCT</th>\n",
       "      <th>TTTGTTGCACGAAAGC</th>\n",
       "      <th>TTTGTTGCAGAGGAAA</th>\n",
       "      <th>TTTGTTGGTCTCTCAC</th>\n",
       "      <th>TTTGTTGGTGGCCACT</th>\n",
       "      <th>TTTGTTGGTTCAAGTC</th>\n",
       "      <th>TTTGTTGGTTGCATGT</th>\n",
       "      <th>TTTGTTGGTTGCGGCT</th>\n",
       "      <th>TTTGTTGTCGAGTGAG</th>\n",
       "      <th>TTTGTTGTCGTTCAGA</th>\n",
       "    </tr>\n",
       "  </thead>\n",
       "  <tbody>\n",
       "    <tr>\n",
       "      <th>MIR1302-2HG</th>\n",
       "      <td>0</td>\n",
       "      <td>0</td>\n",
       "      <td>0</td>\n",
       "      <td>0</td>\n",
       "      <td>0</td>\n",
       "      <td>0</td>\n",
       "      <td>0</td>\n",
       "      <td>0</td>\n",
       "      <td>0</td>\n",
       "      <td>0</td>\n",
       "      <td>...</td>\n",
       "      <td>0</td>\n",
       "      <td>0</td>\n",
       "      <td>0</td>\n",
       "      <td>0</td>\n",
       "      <td>0</td>\n",
       "      <td>0</td>\n",
       "      <td>0</td>\n",
       "      <td>0</td>\n",
       "      <td>0</td>\n",
       "      <td>0</td>\n",
       "    </tr>\n",
       "    <tr>\n",
       "      <th>FAM138A</th>\n",
       "      <td>0</td>\n",
       "      <td>0</td>\n",
       "      <td>0</td>\n",
       "      <td>0</td>\n",
       "      <td>0</td>\n",
       "      <td>0</td>\n",
       "      <td>0</td>\n",
       "      <td>0</td>\n",
       "      <td>0</td>\n",
       "      <td>0</td>\n",
       "      <td>...</td>\n",
       "      <td>0</td>\n",
       "      <td>0</td>\n",
       "      <td>0</td>\n",
       "      <td>0</td>\n",
       "      <td>0</td>\n",
       "      <td>0</td>\n",
       "      <td>0</td>\n",
       "      <td>0</td>\n",
       "      <td>0</td>\n",
       "      <td>0</td>\n",
       "    </tr>\n",
       "    <tr>\n",
       "      <th>OR4F5</th>\n",
       "      <td>0</td>\n",
       "      <td>0</td>\n",
       "      <td>0</td>\n",
       "      <td>0</td>\n",
       "      <td>0</td>\n",
       "      <td>0</td>\n",
       "      <td>0</td>\n",
       "      <td>0</td>\n",
       "      <td>0</td>\n",
       "      <td>0</td>\n",
       "      <td>...</td>\n",
       "      <td>0</td>\n",
       "      <td>0</td>\n",
       "      <td>0</td>\n",
       "      <td>0</td>\n",
       "      <td>0</td>\n",
       "      <td>0</td>\n",
       "      <td>0</td>\n",
       "      <td>0</td>\n",
       "      <td>0</td>\n",
       "      <td>0</td>\n",
       "    </tr>\n",
       "    <tr>\n",
       "      <th>AL627309.1</th>\n",
       "      <td>0</td>\n",
       "      <td>0</td>\n",
       "      <td>0</td>\n",
       "      <td>0</td>\n",
       "      <td>0</td>\n",
       "      <td>0</td>\n",
       "      <td>0</td>\n",
       "      <td>0</td>\n",
       "      <td>0</td>\n",
       "      <td>0</td>\n",
       "      <td>...</td>\n",
       "      <td>0</td>\n",
       "      <td>0</td>\n",
       "      <td>0</td>\n",
       "      <td>0</td>\n",
       "      <td>0</td>\n",
       "      <td>0</td>\n",
       "      <td>0</td>\n",
       "      <td>0</td>\n",
       "      <td>0</td>\n",
       "      <td>0</td>\n",
       "    </tr>\n",
       "    <tr>\n",
       "      <th>AL627309.3</th>\n",
       "      <td>0</td>\n",
       "      <td>0</td>\n",
       "      <td>0</td>\n",
       "      <td>0</td>\n",
       "      <td>0</td>\n",
       "      <td>0</td>\n",
       "      <td>0</td>\n",
       "      <td>0</td>\n",
       "      <td>0</td>\n",
       "      <td>0</td>\n",
       "      <td>...</td>\n",
       "      <td>0</td>\n",
       "      <td>0</td>\n",
       "      <td>0</td>\n",
       "      <td>0</td>\n",
       "      <td>0</td>\n",
       "      <td>0</td>\n",
       "      <td>0</td>\n",
       "      <td>0</td>\n",
       "      <td>0</td>\n",
       "      <td>0</td>\n",
       "    </tr>\n",
       "  </tbody>\n",
       "</table>\n",
       "<p>5 rows × 7865 columns</p>\n",
       "</div>"
      ],
      "text/plain": [
       "             AAACCCAAGATTGTGA  AAACCCACATCGGTTA  AAACCCAGTACCGCGT  \\\n",
       "MIR1302-2HG                 0                 0                 0   \n",
       "FAM138A                     0                 0                 0   \n",
       "OR4F5                       0                 0                 0   \n",
       "AL627309.1                  0                 0                 0   \n",
       "AL627309.3                  0                 0                 0   \n",
       "\n",
       "             AAACCCAGTATCGAAA  AAACCCAGTCGTCATA  AAACCCAGTCTACACA  \\\n",
       "MIR1302-2HG                 0                 0                 0   \n",
       "FAM138A                     0                 0                 0   \n",
       "OR4F5                       0                 0                 0   \n",
       "AL627309.1                  0                 0                 0   \n",
       "AL627309.3                  0                 0                 0   \n",
       "\n",
       "             AAACCCAGTGCAAGAC  AAACCCAGTGCATTTG  AAACCCATCCGATGTA  \\\n",
       "MIR1302-2HG                 0                 0                 0   \n",
       "FAM138A                     0                 0                 0   \n",
       "OR4F5                       0                 0                 0   \n",
       "AL627309.1                  0                 0                 0   \n",
       "AL627309.3                  0                 0                 0   \n",
       "\n",
       "             AAACCCATCTCAACGA        ...         TTTGTTGAGGCCACCT  \\\n",
       "MIR1302-2HG                 0        ...                        0   \n",
       "FAM138A                     0        ...                        0   \n",
       "OR4F5                       0        ...                        0   \n",
       "AL627309.1                  0        ...                        0   \n",
       "AL627309.3                  0        ...                        0   \n",
       "\n",
       "             TTTGTTGCACGAAAGC  TTTGTTGCAGAGGAAA  TTTGTTGGTCTCTCAC  \\\n",
       "MIR1302-2HG                 0                 0                 0   \n",
       "FAM138A                     0                 0                 0   \n",
       "OR4F5                       0                 0                 0   \n",
       "AL627309.1                  0                 0                 0   \n",
       "AL627309.3                  0                 0                 0   \n",
       "\n",
       "             TTTGTTGGTGGCCACT  TTTGTTGGTTCAAGTC  TTTGTTGGTTGCATGT  \\\n",
       "MIR1302-2HG                 0                 0                 0   \n",
       "FAM138A                     0                 0                 0   \n",
       "OR4F5                       0                 0                 0   \n",
       "AL627309.1                  0                 0                 0   \n",
       "AL627309.3                  0                 0                 0   \n",
       "\n",
       "             TTTGTTGGTTGCGGCT  TTTGTTGTCGAGTGAG  TTTGTTGTCGTTCAGA  \n",
       "MIR1302-2HG                 0                 0                 0  \n",
       "FAM138A                     0                 0                 0  \n",
       "OR4F5                       0                 0                 0  \n",
       "AL627309.1                  0                 0                 0  \n",
       "AL627309.3                  0                 0                 0  \n",
       "\n",
       "[5 rows x 7865 columns]"
      ]
     },
     "execution_count": 11,
     "metadata": {},
     "output_type": "execute_result"
    }
   ],
   "source": [
    "df['gex'].head()"
   ]
  },
  {
   "cell_type": "markdown",
   "metadata": {},
   "source": [
    "# CytoBank Output"
   ]
  },
  {
   "cell_type": "code",
   "execution_count": null,
   "metadata": {},
   "outputs": [],
   "source": []
  },
  {
   "cell_type": "markdown",
   "metadata": {},
   "source": [
    "# GEX Data top 100 Var Genes"
   ]
  },
  {
   "cell_type": "code",
   "execution_count": 14,
   "metadata": {},
   "outputs": [
    {
     "data": {
      "application/vnd.jupyter.widget-view+json": {
       "model_id": "4d1f9f19baa84cb59e25665cc1737373",
       "version_major": 2,
       "version_minor": 0
      },
      "text/plain": [
       "ExampleWidget(network='{\"row_nodes\": [{\"name\": \"IGKC\", \"ini\": 100, \"clust\": 88, \"rank\": 4, \"rankvar\": 10, \"gro…"
      ]
     },
     "metadata": {},
     "output_type": "display_data"
    }
   ],
   "source": [
    "net.load_df(df['gex'])\n",
    "net.filter_N_top(inst_rc='row', N_top=100, rank_type='var')\n",
    "net.normalize(axis='row', norm_type='zscore')\n",
    "net.clip(-5,5)\n",
    "net.widget()"
   ]
  },
  {
   "cell_type": "markdown",
   "metadata": {},
   "source": [
    "# ADT Data "
   ]
  },
  {
   "cell_type": "code",
   "execution_count": 15,
   "metadata": {},
   "outputs": [
    {
     "data": {
      "application/vnd.jupyter.widget-view+json": {
       "model_id": "1e0da85e82ff4e12b143e16324cfabf4",
       "version_major": 2,
       "version_minor": 0
      },
      "text/plain": [
       "ExampleWidget(network='{\"row_nodes\": [{\"name\": \"CD3\", \"ini\": 17, \"clust\": 3, \"rank\": 13, \"rankvar\": 13, \"group…"
      ]
     },
     "metadata": {},
     "output_type": "display_data"
    }
   ],
   "source": [
    "net.load_df(df['adt'])\n",
    "net.normalize(axis='row', norm_type='zscore')\n",
    "net.clip(-5,5)\n",
    "net.widget()"
   ]
  },
  {
   "cell_type": "code",
   "execution_count": null,
   "metadata": {},
   "outputs": [],
   "source": []
  }
 ],
 "metadata": {
  "kernelspec": {
   "display_name": "Python 3",
   "language": "python",
   "name": "python3"
  },
  "language_info": {
   "codemirror_mode": {
    "name": "ipython",
    "version": 3
   },
   "file_extension": ".py",
   "mimetype": "text/x-python",
   "name": "python",
   "nbconvert_exporter": "python",
   "pygments_lexer": "ipython3",
   "version": "3.6.8"
  }
 },
 "nbformat": 4,
 "nbformat_minor": 2
}
