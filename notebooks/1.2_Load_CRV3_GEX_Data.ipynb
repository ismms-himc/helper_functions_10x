{
 "cells": [
  {
   "cell_type": "markdown",
   "metadata": {},
   "source": [
    "# 1.2 Load CRV3 GEX Data\n",
    "\n",
    "MTX -> Sparse in-memory Format -> DataFrame (dense)"
   ]
  },
  {
   "cell_type": "code",
   "execution_count": 3,
   "metadata": {},
   "outputs": [],
   "source": [
    "import pandas as pd\n",
    "import helper_functions_10x as hf\n",
    "\n",
    "from typing import Dict\n",
    "\n",
    "# explicitly declare we're using a dictionary of DataFrames\n",
    "df:Dict[str,pd.DataFrame] = {}"
   ]
  },
  {
   "cell_type": "code",
   "execution_count": 4,
   "metadata": {},
   "outputs": [],
   "source": [
    "import gzip\n",
    "from scipy import io\n",
    "from scipy.sparse import csc_matrix\n",
    "from ast import literal_eval as make_tuple\n",
    "import pandas as pd\n",
    "import numpy as np\n",
    "from copy import deepcopy\n",
    "import os\n",
    "import matplotlib.pyplot as plt"
   ]
  },
  {
   "cell_type": "code",
   "execution_count": 5,
   "metadata": {},
   "outputs": [],
   "source": [
    "def load_crv3_feature_matrix(inst_path):\n",
    "    # Read Barcodes\n",
    "    ###########################\n",
    "    # need to check whether we have tuples\n",
    "    barcodes_cats = False\n",
    "\n",
    "    # barcodes\n",
    "    filename = inst_path + 'barcodes.tsv.gz'\n",
    "    f = gzip.open(filename, 'rt')\n",
    "    lines = f.readlines()\n",
    "    f.close()\n",
    "\n",
    "    barcodes = []\n",
    "    for inst_bc in lines:\n",
    "        inst_bc = inst_bc.strip().split('\\t')\n",
    "\n",
    "        if barcodes_cats == False:\n",
    "            # remove dash from barcodes if necessary\n",
    "            if '-' in inst_bc[0]:\n",
    "                inst_bc[0] = inst_bc[0].split('-')[0]\n",
    "\n",
    "        barcodes.append(inst_bc[0])\n",
    "\n",
    "    # parse tuples if necessary\n",
    "    if barcodes_cats:\n",
    "        try:\n",
    "            barcodes = [make_tuple(x) for x in barcodes]\n",
    "        except:\n",
    "            pass\n",
    "\n",
    "    # Load Matrix\n",
    "    #################\n",
    "    mat = io.mmread(inst_path + 'matrix.mtx.gz')\n",
    "    mat_csr = mat.tocsr()\n",
    "\n",
    "    # Get Indexes of Feature Types\n",
    "    ##################################\n",
    "    filename = inst_path + 'features.tsv.gz'\n",
    "    f = gzip.open(filename, 'rt')\n",
    "    lines = f.readlines()\n",
    "    f.close()\n",
    "\n",
    "    feature_indexes = {}\n",
    "    feature_lines = {}\n",
    "    for index in range(len(lines)):\n",
    "\n",
    "        inst_line = lines[index].strip().split('\\t')\n",
    "        inst_feat = inst_line[2].replace('Gene Expression', 'gex').replace('Antibody Capture', 'adt').replace('Custom', 'custom')\n",
    "\n",
    "\n",
    "        if inst_feat not in feature_indexes:\n",
    "            feature_indexes[inst_feat] = []\n",
    "\n",
    "        feature_indexes[inst_feat].append(index)\n",
    "\n",
    "    feature_data = {}\n",
    "\n",
    "    for inst_feat in feature_indexes:\n",
    "        feature_data[inst_feat] = {}\n",
    "\n",
    "        feature_data[inst_feat]['barcodes'] = barcodes\n",
    "\n",
    "        inst_indexes = feature_indexes[inst_feat]\n",
    "\n",
    "        # Separate feature lists\n",
    "        ser_lines = pd.Series(lines)\n",
    "        ser_lines_found = ser_lines[inst_indexes]\n",
    "        lines_found = ser_lines_found.get_values().tolist()\n",
    "\n",
    "        # save feature lines\n",
    "        feature_lines[inst_feat] = lines_found\n",
    "\n",
    "        # save as compressed sparse column matrix (for barcode filtering)\n",
    "        mat_filt = mat_csr[inst_indexes, :].tocsc()\n",
    "\n",
    "        feature_data[inst_feat]['mat'] = mat_filt\n",
    "\n",
    "    # Make unique feature names\n",
    "    for inst_feat in feature_lines:\n",
    "        feat_lines = feature_lines[inst_feat]\n",
    "        feat_lines = [x.strip().split('\\t') for x in feat_lines]\n",
    "\n",
    "        # find non-unique initial feature names (add id later if necessary)\n",
    "        ini_names = [x[1] for x in feat_lines]\n",
    "\n",
    "        ini_name_count = pd.Series(ini_names).value_counts()\n",
    "        duplicate_names = ini_name_count[ini_name_count > 1].index.tolist()\n",
    "\n",
    "        print(duplicate_names)\n",
    "\n",
    "        new_names = [x[1] if x[1] not in duplicate_names else x[1] + '_' + x[0] for x in feat_lines]\n",
    "\n",
    "        # quick hack to clean up names\n",
    "        new_names = [x.replace('_TotalSeqB', '') for x in new_names]\n",
    "\n",
    "        feature_data[inst_feat]['features'] = new_names\n",
    "\n",
    "    return feature_data"
   ]
  },
  {
   "cell_type": "markdown",
   "metadata": {},
   "source": [
    "### Load GEX Data into DataFrame"
   ]
  },
  {
   "cell_type": "code",
   "execution_count": 6,
   "metadata": {},
   "outputs": [
    {
     "name": "stdout",
     "output_type": "stream",
     "text": [
      "['ATXN7', 'LINC01505', 'TBCE', 'PDE11A', 'CYB561D2', 'TXNRD3NB', 'CCDC39', 'IGF2', 'SOD2', 'TMSB15B', 'MATR3', 'EMG1', 'SCO2', 'PRSS50', 'ABCF2', 'POLR2J3', 'COG8', 'HSPA14', 'DIABLO', 'RGS5', 'LINC02203', 'LINC01238', 'H2BFS', 'PINX1']\n",
      "[]\n"
     ]
    }
   ],
   "source": [
    "feature_data = load_crv3_feature_matrix('../data/10k_pbmc_feature_v3-chem_v3.0.0-cr/filtered_feature_bc_matrix/')"
   ]
  },
  {
   "cell_type": "code",
   "execution_count": 8,
   "metadata": {},
   "outputs": [
    {
     "name": "stdout",
     "output_type": "stream",
     "text": [
      "gex\n",
      "33538 7865\n",
      "(33538, 7865) \n",
      "\n",
      "adt\n",
      "17 7865\n",
      "(17, 7865) \n",
      "\n"
     ]
    }
   ],
   "source": [
    "hf.check_feature_data_size(feature_data)"
   ]
  },
  {
   "cell_type": "code",
   "execution_count": 10,
   "metadata": {},
   "outputs": [],
   "source": [
    "# rows = df['gex-ini'].index.tolist()\n",
    "rows = feature_data['gex']['features']"
   ]
  },
  {
   "cell_type": "code",
   "execution_count": 11,
   "metadata": {},
   "outputs": [
    {
     "name": "stdout",
     "output_type": "stream",
     "text": [
      "['ATXN7L2', 'ATXN7_ENSG00000285258', 'ATXN7_ENSG00000163635', 'ATXN7L1', 'ATXN7L3B', 'ATXN7L3']\n"
     ]
    }
   ],
   "source": [
    "found_rows = [x for x in rows if 'ATXN7' in x]\n",
    "print(found_rows)"
   ]
  },
  {
   "cell_type": "code",
   "execution_count": null,
   "metadata": {},
   "outputs": [],
   "source": [
    "df['gex-ini'].shape"
   ]
  },
  {
   "cell_type": "code",
   "execution_count": null,
   "metadata": {},
   "outputs": [],
   "source": [
    "df['gex-ini'].head()"
   ]
  },
  {
   "cell_type": "markdown",
   "metadata": {},
   "source": [
    "### Checking Ensemble Gene IDS"
   ]
  },
  {
   "cell_type": "code",
   "execution_count": null,
   "metadata": {},
   "outputs": [],
   "source": [
    "filename = '../data/pbmc3k_filtered_gene_bc_matrices_v2-cr/genes.tsv'\n",
    "f = open(filename, 'r')\n",
    "lines = f.readlines()\n",
    "lines[0]"
   ]
  },
  {
   "cell_type": "code",
   "execution_count": null,
   "metadata": {},
   "outputs": [],
   "source": [
    "ens_list = []\n",
    "gene_list = []\n",
    "for inst_line in lines:\n",
    "    inst_line = inst_line.strip().split('\\t')\n",
    "    ens_list.append(inst_line[0])\n",
    "    gene_list.append(inst_line[1])"
   ]
  },
  {
   "cell_type": "code",
   "execution_count": null,
   "metadata": {},
   "outputs": [],
   "source": [
    "print(len(ens_list))\n",
    "print(len(list(set(ens_list))))"
   ]
  },
  {
   "cell_type": "code",
   "execution_count": null,
   "metadata": {},
   "outputs": [],
   "source": [
    "print(len(gene_list))\n",
    "print(len(list(set(gene_list))))"
   ]
  },
  {
   "cell_type": "code",
   "execution_count": null,
   "metadata": {},
   "outputs": [],
   "source": []
  }
 ],
 "metadata": {
  "kernelspec": {
   "display_name": "Python 3",
   "language": "python",
   "name": "python3"
  },
  "language_info": {
   "codemirror_mode": {
    "name": "ipython",
    "version": 3
   },
   "file_extension": ".py",
   "mimetype": "text/x-python",
   "name": "python",
   "nbconvert_exporter": "python",
   "pygments_lexer": "ipython3",
   "version": "3.6.5"
  }
 },
 "nbformat": 4,
 "nbformat_minor": 2
}
