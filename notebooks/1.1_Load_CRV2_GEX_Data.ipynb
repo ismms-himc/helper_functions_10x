{
 "cells": [
  {
   "cell_type": "markdown",
   "metadata": {},
   "source": [
    "# 1.0 Load CRV2 GEX Data\n",
    "\n",
    "MTX -> Sparse in-memory Format -> DataFrame (dense)"
   ]
  },
  {
   "cell_type": "code",
   "execution_count": 1,
   "metadata": {},
   "outputs": [],
   "source": [
    "import pandas as pd\n",
    "import helper_functions_10x as hf\n",
    "\n",
    "from typing import Dict\n",
    "\n",
    "# explicitly declare we're using a dictionary of DataFrames\n",
    "df:Dict[str,pd.DataFrame] = {}"
   ]
  },
  {
   "cell_type": "code",
   "execution_count": 19,
   "metadata": {},
   "outputs": [],
   "source": [
    "def load_crv2_gene_matrix(inst_path):\n",
    "    '''\n",
    "    Loads gene expression data from 10x in sparse matrix format and returns a\n",
    "    Pandas dataframe\n",
    "    '''\n",
    "\n",
    "    import pandas as pd\n",
    "    from scipy import io\n",
    "    from scipy import sparse\n",
    "    from ast import literal_eval as make_tuple\n",
    "\n",
    "    # matrix\n",
    "    mat = io.mmread( inst_path + 'matrix.mtx').tocsc()\n",
    "\n",
    "    \n",
    "    # genes\n",
    "    filename = inst_path + 'genes.tsv'\n",
    "    f = open(filename, 'r')\n",
    "    lines_genes = f.readlines()\n",
    "    f.close()\n",
    "\n",
    "    # make unique gene names\n",
    "    #############################\n",
    "    gene_list = [x.strip().split('\\t') for x in lines_genes]\n",
    "\n",
    "    # find non-unique initial gene names\n",
    "    ini_names = [x[1] for x in gene_list]\n",
    "\n",
    "    ini_name_count = pd.Series(ini_names).value_counts()\n",
    "    duplicate_names = ini_name_count[ini_name_count > 1].index.tolist()\n",
    "    genes = [x[1] if x[1] not in duplicate_names else x[1] + '_' + x[0] for x in gene_list]    \n",
    "\n",
    "    \n",
    "    # barcodes\n",
    "    filename = inst_path + 'barcodes.tsv'\n",
    "    f = open(filename, 'r')\n",
    "    lines = f.readlines()\n",
    "    f.close()\n",
    "\n",
    "    cell_barcodes = []\n",
    "    for inst_bc in lines:\n",
    "        inst_bc = inst_bc.strip().split('\\t')\n",
    "\n",
    "        # remove dash from barcodes if necessary\n",
    "        if '-' in inst_bc[0]:\n",
    "          inst_bc[0] = inst_bc[0].split('-')[0]\n",
    "\n",
    "        cell_barcodes.append(inst_bc[0])\n",
    "\n",
    "    # parse tuples if necessary\n",
    "    try:\n",
    "        cell_barcodes = [make_tuple(x) for x in cell_barcodes]\n",
    "    except:\n",
    "        pass\n",
    "\n",
    "    try:\n",
    "        genes = [make_tuple(x) for x in genes]\n",
    "    except:\n",
    "        pass\n",
    "\n",
    "#     # make dataframe\n",
    "#     df = pd.DataFrame(mat, index=genes, columns=cell_barcodes)\n",
    "    \n",
    "    # generate feature_data\n",
    "    feature_data = {}\n",
    "    feature_data['gex'] = {}\n",
    "    feature_data['gex']['features'] = genes\n",
    "    feature_data['gex']['barcodes'] = cell_barcodes\n",
    "    feature_data['gex']['mat'] = mat    \n",
    "\n",
    "    return feature_data"
   ]
  },
  {
   "cell_type": "markdown",
   "metadata": {},
   "source": [
    "### Load GEX Data into DataFrame"
   ]
  },
  {
   "cell_type": "code",
   "execution_count": 20,
   "metadata": {},
   "outputs": [],
   "source": [
    "df = {}"
   ]
  },
  {
   "cell_type": "code",
   "execution_count": 21,
   "metadata": {},
   "outputs": [],
   "source": [
    "feature_data = load_crv2_gene_matrix('../data/pbmc3k_filtered_gene_bc_matrices_v2-cr/')"
   ]
  },
  {
   "cell_type": "code",
   "execution_count": 22,
   "metadata": {},
   "outputs": [
    {
     "name": "stdout",
     "output_type": "stream",
     "text": [
      "gex\n",
      "32738 2700\n",
      "(32738, 2700) \n",
      "\n"
     ]
    }
   ],
   "source": [
    "hf.check_feature_data_size(feature_data)"
   ]
  },
  {
   "cell_type": "code",
   "execution_count": 23,
   "metadata": {},
   "outputs": [],
   "source": [
    "df = hf.convert_feature_data_to_df_dict(feature_data)"
   ]
  },
  {
   "cell_type": "code",
   "execution_count": 24,
   "metadata": {},
   "outputs": [
    {
     "data": {
      "text/plain": [
       "dict_keys(['gex'])"
      ]
     },
     "execution_count": 24,
     "metadata": {},
     "output_type": "execute_result"
    }
   ],
   "source": [
    "df.keys()"
   ]
  },
  {
   "cell_type": "code",
   "execution_count": 25,
   "metadata": {},
   "outputs": [
    {
     "data": {
      "text/plain": [
       "(32738, 2700)"
      ]
     },
     "execution_count": 25,
     "metadata": {},
     "output_type": "execute_result"
    }
   ],
   "source": [
    "df['gex'].shape"
   ]
  },
  {
   "cell_type": "code",
   "execution_count": 26,
   "metadata": {},
   "outputs": [
    {
     "data": {
      "text/html": [
       "<div>\n",
       "<style scoped>\n",
       "    .dataframe tbody tr th:only-of-type {\n",
       "        vertical-align: middle;\n",
       "    }\n",
       "\n",
       "    .dataframe tbody tr th {\n",
       "        vertical-align: top;\n",
       "    }\n",
       "\n",
       "    .dataframe thead th {\n",
       "        text-align: right;\n",
       "    }\n",
       "</style>\n",
       "<table border=\"1\" class=\"dataframe\">\n",
       "  <thead>\n",
       "    <tr style=\"text-align: right;\">\n",
       "      <th></th>\n",
       "      <th>AAACATACAACCAC</th>\n",
       "      <th>AAACATTGAGCTAC</th>\n",
       "      <th>AAACATTGATCAGC</th>\n",
       "      <th>AAACCGTGCTTCCG</th>\n",
       "      <th>AAACCGTGTATGCG</th>\n",
       "      <th>AAACGCACTGGTAC</th>\n",
       "      <th>AAACGCTGACCAGT</th>\n",
       "      <th>AAACGCTGGTTCTT</th>\n",
       "      <th>AAACGCTGTAGCCA</th>\n",
       "      <th>AAACGCTGTTTCTG</th>\n",
       "      <th>...</th>\n",
       "      <th>TTTCAGTGTCACGA</th>\n",
       "      <th>TTTCAGTGTCTATC</th>\n",
       "      <th>TTTCAGTGTGCAGT</th>\n",
       "      <th>TTTCCAGAGGTGAG</th>\n",
       "      <th>TTTCGAACACCTGA</th>\n",
       "      <th>TTTCGAACTCTCAT</th>\n",
       "      <th>TTTCTACTGAGGCA</th>\n",
       "      <th>TTTCTACTTCCTCG</th>\n",
       "      <th>TTTGCATGAGAGGC</th>\n",
       "      <th>TTTGCATGCCTCAC</th>\n",
       "    </tr>\n",
       "  </thead>\n",
       "  <tbody>\n",
       "    <tr>\n",
       "      <th>MIR1302-10</th>\n",
       "      <td>0.0</td>\n",
       "      <td>0.0</td>\n",
       "      <td>0.0</td>\n",
       "      <td>0.0</td>\n",
       "      <td>0.0</td>\n",
       "      <td>0.0</td>\n",
       "      <td>0.0</td>\n",
       "      <td>0.0</td>\n",
       "      <td>0.0</td>\n",
       "      <td>0.0</td>\n",
       "      <td>...</td>\n",
       "      <td>0.0</td>\n",
       "      <td>0.0</td>\n",
       "      <td>0.0</td>\n",
       "      <td>0.0</td>\n",
       "      <td>0.0</td>\n",
       "      <td>0.0</td>\n",
       "      <td>0.0</td>\n",
       "      <td>0.0</td>\n",
       "      <td>0.0</td>\n",
       "      <td>0.0</td>\n",
       "    </tr>\n",
       "    <tr>\n",
       "      <th>FAM138A</th>\n",
       "      <td>0.0</td>\n",
       "      <td>0.0</td>\n",
       "      <td>0.0</td>\n",
       "      <td>0.0</td>\n",
       "      <td>0.0</td>\n",
       "      <td>0.0</td>\n",
       "      <td>0.0</td>\n",
       "      <td>0.0</td>\n",
       "      <td>0.0</td>\n",
       "      <td>0.0</td>\n",
       "      <td>...</td>\n",
       "      <td>0.0</td>\n",
       "      <td>0.0</td>\n",
       "      <td>0.0</td>\n",
       "      <td>0.0</td>\n",
       "      <td>0.0</td>\n",
       "      <td>0.0</td>\n",
       "      <td>0.0</td>\n",
       "      <td>0.0</td>\n",
       "      <td>0.0</td>\n",
       "      <td>0.0</td>\n",
       "    </tr>\n",
       "    <tr>\n",
       "      <th>OR4F5</th>\n",
       "      <td>0.0</td>\n",
       "      <td>0.0</td>\n",
       "      <td>0.0</td>\n",
       "      <td>0.0</td>\n",
       "      <td>0.0</td>\n",
       "      <td>0.0</td>\n",
       "      <td>0.0</td>\n",
       "      <td>0.0</td>\n",
       "      <td>0.0</td>\n",
       "      <td>0.0</td>\n",
       "      <td>...</td>\n",
       "      <td>0.0</td>\n",
       "      <td>0.0</td>\n",
       "      <td>0.0</td>\n",
       "      <td>0.0</td>\n",
       "      <td>0.0</td>\n",
       "      <td>0.0</td>\n",
       "      <td>0.0</td>\n",
       "      <td>0.0</td>\n",
       "      <td>0.0</td>\n",
       "      <td>0.0</td>\n",
       "    </tr>\n",
       "    <tr>\n",
       "      <th>RP11-34P13.7</th>\n",
       "      <td>0.0</td>\n",
       "      <td>0.0</td>\n",
       "      <td>0.0</td>\n",
       "      <td>0.0</td>\n",
       "      <td>0.0</td>\n",
       "      <td>0.0</td>\n",
       "      <td>0.0</td>\n",
       "      <td>0.0</td>\n",
       "      <td>0.0</td>\n",
       "      <td>0.0</td>\n",
       "      <td>...</td>\n",
       "      <td>0.0</td>\n",
       "      <td>0.0</td>\n",
       "      <td>0.0</td>\n",
       "      <td>0.0</td>\n",
       "      <td>0.0</td>\n",
       "      <td>0.0</td>\n",
       "      <td>0.0</td>\n",
       "      <td>0.0</td>\n",
       "      <td>0.0</td>\n",
       "      <td>0.0</td>\n",
       "    </tr>\n",
       "    <tr>\n",
       "      <th>RP11-34P13.8</th>\n",
       "      <td>0.0</td>\n",
       "      <td>0.0</td>\n",
       "      <td>0.0</td>\n",
       "      <td>0.0</td>\n",
       "      <td>0.0</td>\n",
       "      <td>0.0</td>\n",
       "      <td>0.0</td>\n",
       "      <td>0.0</td>\n",
       "      <td>0.0</td>\n",
       "      <td>0.0</td>\n",
       "      <td>...</td>\n",
       "      <td>0.0</td>\n",
       "      <td>0.0</td>\n",
       "      <td>0.0</td>\n",
       "      <td>0.0</td>\n",
       "      <td>0.0</td>\n",
       "      <td>0.0</td>\n",
       "      <td>0.0</td>\n",
       "      <td>0.0</td>\n",
       "      <td>0.0</td>\n",
       "      <td>0.0</td>\n",
       "    </tr>\n",
       "  </tbody>\n",
       "</table>\n",
       "<p>5 rows × 2700 columns</p>\n",
       "</div>"
      ],
      "text/plain": [
       "              AAACATACAACCAC  AAACATTGAGCTAC  AAACATTGATCAGC  AAACCGTGCTTCCG  \\\n",
       "MIR1302-10               0.0             0.0             0.0             0.0   \n",
       "FAM138A                  0.0             0.0             0.0             0.0   \n",
       "OR4F5                    0.0             0.0             0.0             0.0   \n",
       "RP11-34P13.7             0.0             0.0             0.0             0.0   \n",
       "RP11-34P13.8             0.0             0.0             0.0             0.0   \n",
       "\n",
       "              AAACCGTGTATGCG  AAACGCACTGGTAC  AAACGCTGACCAGT  AAACGCTGGTTCTT  \\\n",
       "MIR1302-10               0.0             0.0             0.0             0.0   \n",
       "FAM138A                  0.0             0.0             0.0             0.0   \n",
       "OR4F5                    0.0             0.0             0.0             0.0   \n",
       "RP11-34P13.7             0.0             0.0             0.0             0.0   \n",
       "RP11-34P13.8             0.0             0.0             0.0             0.0   \n",
       "\n",
       "              AAACGCTGTAGCCA  AAACGCTGTTTCTG       ...        TTTCAGTGTCACGA  \\\n",
       "MIR1302-10               0.0             0.0       ...                   0.0   \n",
       "FAM138A                  0.0             0.0       ...                   0.0   \n",
       "OR4F5                    0.0             0.0       ...                   0.0   \n",
       "RP11-34P13.7             0.0             0.0       ...                   0.0   \n",
       "RP11-34P13.8             0.0             0.0       ...                   0.0   \n",
       "\n",
       "              TTTCAGTGTCTATC  TTTCAGTGTGCAGT  TTTCCAGAGGTGAG  TTTCGAACACCTGA  \\\n",
       "MIR1302-10               0.0             0.0             0.0             0.0   \n",
       "FAM138A                  0.0             0.0             0.0             0.0   \n",
       "OR4F5                    0.0             0.0             0.0             0.0   \n",
       "RP11-34P13.7             0.0             0.0             0.0             0.0   \n",
       "RP11-34P13.8             0.0             0.0             0.0             0.0   \n",
       "\n",
       "              TTTCGAACTCTCAT  TTTCTACTGAGGCA  TTTCTACTTCCTCG  TTTGCATGAGAGGC  \\\n",
       "MIR1302-10               0.0             0.0             0.0             0.0   \n",
       "FAM138A                  0.0             0.0             0.0             0.0   \n",
       "OR4F5                    0.0             0.0             0.0             0.0   \n",
       "RP11-34P13.7             0.0             0.0             0.0             0.0   \n",
       "RP11-34P13.8             0.0             0.0             0.0             0.0   \n",
       "\n",
       "              TTTGCATGCCTCAC  \n",
       "MIR1302-10               0.0  \n",
       "FAM138A                  0.0  \n",
       "OR4F5                    0.0  \n",
       "RP11-34P13.7             0.0  \n",
       "RP11-34P13.8             0.0  \n",
       "\n",
       "[5 rows x 2700 columns]"
      ]
     },
     "execution_count": 26,
     "metadata": {},
     "output_type": "execute_result"
    }
   ],
   "source": [
    "df['gex'].head()"
   ]
  },
  {
   "cell_type": "code",
   "execution_count": null,
   "metadata": {},
   "outputs": [],
   "source": [
    "print(len(gene_list))\n",
    "print(len(list(set(gene_list))))"
   ]
  },
  {
   "cell_type": "code",
   "execution_count": null,
   "metadata": {},
   "outputs": [],
   "source": []
  }
 ],
 "metadata": {
  "kernelspec": {
   "display_name": "Python 3",
   "language": "python",
   "name": "python3"
  },
  "language_info": {
   "codemirror_mode": {
    "name": "ipython",
    "version": 3
   },
   "file_extension": ".py",
   "mimetype": "text/x-python",
   "name": "python",
   "nbconvert_exporter": "python",
   "pygments_lexer": "ipython3",
   "version": "3.6.5"
  }
 },
 "nbformat": 4,
 "nbformat_minor": 2
}
