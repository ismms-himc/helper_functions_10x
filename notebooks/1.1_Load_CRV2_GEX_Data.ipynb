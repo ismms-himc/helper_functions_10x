{
 "cells": [
  {
   "cell_type": "markdown",
   "metadata": {},
   "source": [
    "# 1.0 Load CRV2 GEX Data\n",
    "\n",
    "MTX -> Sparse in-memory Format -> DataFrame (dense)"
   ]
  },
  {
   "cell_type": "code",
   "execution_count": 10,
   "metadata": {},
   "outputs": [
    {
     "name": "stdout",
     "output_type": "stream",
     "text": [
      ">> clustergrammer2 backend version 0.5.2\n"
     ]
    }
   ],
   "source": [
    "from clustergrammer2 import net"
   ]
  },
  {
   "cell_type": "code",
   "execution_count": 1,
   "metadata": {},
   "outputs": [],
   "source": [
    "import pandas as pd\n",
    "import helper_functions_10x as hf\n",
    "\n",
    "from typing import Dict\n",
    "\n",
    "# explicitly declare we're using a dictionary of DataFrames\n",
    "df:Dict[str,pd.DataFrame] = {}"
   ]
  },
  {
   "cell_type": "markdown",
   "metadata": {},
   "source": [
    "### Load GEX Data into DataFrame"
   ]
  },
  {
   "cell_type": "code",
   "execution_count": 3,
   "metadata": {},
   "outputs": [],
   "source": [
    "feature_data = hf.load_crv2_gene_matrix('../data/pbmc3k_filtered_gene_bc_matrices_v2-cr/')"
   ]
  },
  {
   "cell_type": "code",
   "execution_count": 4,
   "metadata": {},
   "outputs": [
    {
     "name": "stdout",
     "output_type": "stream",
     "text": [
      "gex\n",
      "32738 2700\n",
      "(32738, 2700) \n",
      "\n"
     ]
    }
   ],
   "source": [
    "hf.check_feature_data_size(feature_data)"
   ]
  },
  {
   "cell_type": "code",
   "execution_count": 5,
   "metadata": {},
   "outputs": [],
   "source": [
    "df = hf.convert_feature_data_to_df_dict(feature_data)"
   ]
  },
  {
   "cell_type": "code",
   "execution_count": 6,
   "metadata": {},
   "outputs": [
    {
     "data": {
      "text/plain": [
       "dict_keys(['gex'])"
      ]
     },
     "execution_count": 6,
     "metadata": {},
     "output_type": "execute_result"
    }
   ],
   "source": [
    "df.keys()"
   ]
  },
  {
   "cell_type": "code",
   "execution_count": 7,
   "metadata": {},
   "outputs": [
    {
     "data": {
      "text/plain": [
       "(32738, 2700)"
      ]
     },
     "execution_count": 7,
     "metadata": {},
     "output_type": "execute_result"
    }
   ],
   "source": [
    "df['gex'].shape"
   ]
  },
  {
   "cell_type": "code",
   "execution_count": 8,
   "metadata": {},
   "outputs": [
    {
     "data": {
      "text/html": [
       "<div>\n",
       "<style scoped>\n",
       "    .dataframe tbody tr th:only-of-type {\n",
       "        vertical-align: middle;\n",
       "    }\n",
       "\n",
       "    .dataframe tbody tr th {\n",
       "        vertical-align: top;\n",
       "    }\n",
       "\n",
       "    .dataframe thead th {\n",
       "        text-align: right;\n",
       "    }\n",
       "</style>\n",
       "<table border=\"1\" class=\"dataframe\">\n",
       "  <thead>\n",
       "    <tr style=\"text-align: right;\">\n",
       "      <th></th>\n",
       "      <th>AAACATACAACCAC</th>\n",
       "      <th>AAACATTGAGCTAC</th>\n",
       "      <th>AAACATTGATCAGC</th>\n",
       "      <th>AAACCGTGCTTCCG</th>\n",
       "      <th>AAACCGTGTATGCG</th>\n",
       "      <th>AAACGCACTGGTAC</th>\n",
       "      <th>AAACGCTGACCAGT</th>\n",
       "      <th>AAACGCTGGTTCTT</th>\n",
       "      <th>AAACGCTGTAGCCA</th>\n",
       "      <th>AAACGCTGTTTCTG</th>\n",
       "      <th>...</th>\n",
       "      <th>TTTCAGTGTCACGA</th>\n",
       "      <th>TTTCAGTGTCTATC</th>\n",
       "      <th>TTTCAGTGTGCAGT</th>\n",
       "      <th>TTTCCAGAGGTGAG</th>\n",
       "      <th>TTTCGAACACCTGA</th>\n",
       "      <th>TTTCGAACTCTCAT</th>\n",
       "      <th>TTTCTACTGAGGCA</th>\n",
       "      <th>TTTCTACTTCCTCG</th>\n",
       "      <th>TTTGCATGAGAGGC</th>\n",
       "      <th>TTTGCATGCCTCAC</th>\n",
       "    </tr>\n",
       "  </thead>\n",
       "  <tbody>\n",
       "    <tr>\n",
       "      <th>MIR1302-10</th>\n",
       "      <td>0.0</td>\n",
       "      <td>0.0</td>\n",
       "      <td>0.0</td>\n",
       "      <td>0.0</td>\n",
       "      <td>0.0</td>\n",
       "      <td>0.0</td>\n",
       "      <td>0.0</td>\n",
       "      <td>0.0</td>\n",
       "      <td>0.0</td>\n",
       "      <td>0.0</td>\n",
       "      <td>...</td>\n",
       "      <td>0.0</td>\n",
       "      <td>0.0</td>\n",
       "      <td>0.0</td>\n",
       "      <td>0.0</td>\n",
       "      <td>0.0</td>\n",
       "      <td>0.0</td>\n",
       "      <td>0.0</td>\n",
       "      <td>0.0</td>\n",
       "      <td>0.0</td>\n",
       "      <td>0.0</td>\n",
       "    </tr>\n",
       "    <tr>\n",
       "      <th>FAM138A</th>\n",
       "      <td>0.0</td>\n",
       "      <td>0.0</td>\n",
       "      <td>0.0</td>\n",
       "      <td>0.0</td>\n",
       "      <td>0.0</td>\n",
       "      <td>0.0</td>\n",
       "      <td>0.0</td>\n",
       "      <td>0.0</td>\n",
       "      <td>0.0</td>\n",
       "      <td>0.0</td>\n",
       "      <td>...</td>\n",
       "      <td>0.0</td>\n",
       "      <td>0.0</td>\n",
       "      <td>0.0</td>\n",
       "      <td>0.0</td>\n",
       "      <td>0.0</td>\n",
       "      <td>0.0</td>\n",
       "      <td>0.0</td>\n",
       "      <td>0.0</td>\n",
       "      <td>0.0</td>\n",
       "      <td>0.0</td>\n",
       "    </tr>\n",
       "    <tr>\n",
       "      <th>OR4F5</th>\n",
       "      <td>0.0</td>\n",
       "      <td>0.0</td>\n",
       "      <td>0.0</td>\n",
       "      <td>0.0</td>\n",
       "      <td>0.0</td>\n",
       "      <td>0.0</td>\n",
       "      <td>0.0</td>\n",
       "      <td>0.0</td>\n",
       "      <td>0.0</td>\n",
       "      <td>0.0</td>\n",
       "      <td>...</td>\n",
       "      <td>0.0</td>\n",
       "      <td>0.0</td>\n",
       "      <td>0.0</td>\n",
       "      <td>0.0</td>\n",
       "      <td>0.0</td>\n",
       "      <td>0.0</td>\n",
       "      <td>0.0</td>\n",
       "      <td>0.0</td>\n",
       "      <td>0.0</td>\n",
       "      <td>0.0</td>\n",
       "    </tr>\n",
       "    <tr>\n",
       "      <th>RP11-34P13.7</th>\n",
       "      <td>0.0</td>\n",
       "      <td>0.0</td>\n",
       "      <td>0.0</td>\n",
       "      <td>0.0</td>\n",
       "      <td>0.0</td>\n",
       "      <td>0.0</td>\n",
       "      <td>0.0</td>\n",
       "      <td>0.0</td>\n",
       "      <td>0.0</td>\n",
       "      <td>0.0</td>\n",
       "      <td>...</td>\n",
       "      <td>0.0</td>\n",
       "      <td>0.0</td>\n",
       "      <td>0.0</td>\n",
       "      <td>0.0</td>\n",
       "      <td>0.0</td>\n",
       "      <td>0.0</td>\n",
       "      <td>0.0</td>\n",
       "      <td>0.0</td>\n",
       "      <td>0.0</td>\n",
       "      <td>0.0</td>\n",
       "    </tr>\n",
       "    <tr>\n",
       "      <th>RP11-34P13.8</th>\n",
       "      <td>0.0</td>\n",
       "      <td>0.0</td>\n",
       "      <td>0.0</td>\n",
       "      <td>0.0</td>\n",
       "      <td>0.0</td>\n",
       "      <td>0.0</td>\n",
       "      <td>0.0</td>\n",
       "      <td>0.0</td>\n",
       "      <td>0.0</td>\n",
       "      <td>0.0</td>\n",
       "      <td>...</td>\n",
       "      <td>0.0</td>\n",
       "      <td>0.0</td>\n",
       "      <td>0.0</td>\n",
       "      <td>0.0</td>\n",
       "      <td>0.0</td>\n",
       "      <td>0.0</td>\n",
       "      <td>0.0</td>\n",
       "      <td>0.0</td>\n",
       "      <td>0.0</td>\n",
       "      <td>0.0</td>\n",
       "    </tr>\n",
       "  </tbody>\n",
       "</table>\n",
       "<p>5 rows × 2700 columns</p>\n",
       "</div>"
      ],
      "text/plain": [
       "              AAACATACAACCAC  AAACATTGAGCTAC  AAACATTGATCAGC  AAACCGTGCTTCCG  \\\n",
       "MIR1302-10               0.0             0.0             0.0             0.0   \n",
       "FAM138A                  0.0             0.0             0.0             0.0   \n",
       "OR4F5                    0.0             0.0             0.0             0.0   \n",
       "RP11-34P13.7             0.0             0.0             0.0             0.0   \n",
       "RP11-34P13.8             0.0             0.0             0.0             0.0   \n",
       "\n",
       "              AAACCGTGTATGCG  AAACGCACTGGTAC  AAACGCTGACCAGT  AAACGCTGGTTCTT  \\\n",
       "MIR1302-10               0.0             0.0             0.0             0.0   \n",
       "FAM138A                  0.0             0.0             0.0             0.0   \n",
       "OR4F5                    0.0             0.0             0.0             0.0   \n",
       "RP11-34P13.7             0.0             0.0             0.0             0.0   \n",
       "RP11-34P13.8             0.0             0.0             0.0             0.0   \n",
       "\n",
       "              AAACGCTGTAGCCA  AAACGCTGTTTCTG       ...        TTTCAGTGTCACGA  \\\n",
       "MIR1302-10               0.0             0.0       ...                   0.0   \n",
       "FAM138A                  0.0             0.0       ...                   0.0   \n",
       "OR4F5                    0.0             0.0       ...                   0.0   \n",
       "RP11-34P13.7             0.0             0.0       ...                   0.0   \n",
       "RP11-34P13.8             0.0             0.0       ...                   0.0   \n",
       "\n",
       "              TTTCAGTGTCTATC  TTTCAGTGTGCAGT  TTTCCAGAGGTGAG  TTTCGAACACCTGA  \\\n",
       "MIR1302-10               0.0             0.0             0.0             0.0   \n",
       "FAM138A                  0.0             0.0             0.0             0.0   \n",
       "OR4F5                    0.0             0.0             0.0             0.0   \n",
       "RP11-34P13.7             0.0             0.0             0.0             0.0   \n",
       "RP11-34P13.8             0.0             0.0             0.0             0.0   \n",
       "\n",
       "              TTTCGAACTCTCAT  TTTCTACTGAGGCA  TTTCTACTTCCTCG  TTTGCATGAGAGGC  \\\n",
       "MIR1302-10               0.0             0.0             0.0             0.0   \n",
       "FAM138A                  0.0             0.0             0.0             0.0   \n",
       "OR4F5                    0.0             0.0             0.0             0.0   \n",
       "RP11-34P13.7             0.0             0.0             0.0             0.0   \n",
       "RP11-34P13.8             0.0             0.0             0.0             0.0   \n",
       "\n",
       "              TTTGCATGCCTCAC  \n",
       "MIR1302-10               0.0  \n",
       "FAM138A                  0.0  \n",
       "OR4F5                    0.0  \n",
       "RP11-34P13.7             0.0  \n",
       "RP11-34P13.8             0.0  \n",
       "\n",
       "[5 rows x 2700 columns]"
      ]
     },
     "execution_count": 8,
     "metadata": {},
     "output_type": "execute_result"
    }
   ],
   "source": [
    "df['gex'].head()"
   ]
  },
  {
   "cell_type": "markdown",
   "metadata": {},
   "source": [
    "### Visualize"
   ]
  },
  {
   "cell_type": "code",
   "execution_count": 11,
   "metadata": {},
   "outputs": [
    {
     "data": {
      "application/vnd.jupyter.widget-view+json": {
       "model_id": "daf3180dbe6143909caf463de9e5a708",
       "version_major": 2,
       "version_minor": 0
      },
      "text/plain": [
       "ExampleWidget(network='{\"row_nodes\": [{\"name\": \"FTL\", \"ini\": 100, \"clust\": 82, \"rank\": 85, \"rankvar\": 83, \"gro…"
      ]
     },
     "metadata": {},
     "output_type": "display_data"
    }
   ],
   "source": [
    "net.load_df(df['gex'])\n",
    "net.filter_N_top(inst_rc='row', N_top=100, rank_type='var')\n",
    "net.normalize(axis='row', norm_type='zscore')\n",
    "net.clip(-5,5)\n",
    "net.widget()"
   ]
  },
  {
   "cell_type": "code",
   "execution_count": null,
   "metadata": {},
   "outputs": [],
   "source": []
  }
 ],
 "metadata": {
  "kernelspec": {
   "display_name": "Python 3",
   "language": "python",
   "name": "python3"
  },
  "language_info": {
   "codemirror_mode": {
    "name": "ipython",
    "version": 3
   },
   "file_extension": ".py",
   "mimetype": "text/x-python",
   "name": "python",
   "nbconvert_exporter": "python",
   "pygments_lexer": "ipython3",
   "version": "3.6.5"
  }
 },
 "nbformat": 4,
 "nbformat_minor": 2
}
