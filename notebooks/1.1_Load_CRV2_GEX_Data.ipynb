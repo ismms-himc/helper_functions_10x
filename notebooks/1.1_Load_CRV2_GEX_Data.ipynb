{
 "cells": [
  {
   "cell_type": "markdown",
   "metadata": {},
   "source": [
    "# 1.0 Load CRV2 GEX Data\n",
    "\n",
    "MTX -> Sparse in-memory Format -> DataFrame (dense)"
   ]
  },
  {
   "cell_type": "code",
   "execution_count": 1,
   "metadata": {},
   "outputs": [],
   "source": [
    "import pandas as pd\n",
    "import helper_functions_10x as hf\n",
    "\n",
    "from typing import Dict\n",
    "\n",
    "# explicitly declare we're using a dictionary of DataFrames\n",
    "df:Dict[str,pd.DataFrame] = {}"
   ]
  },
  {
   "cell_type": "markdown",
   "metadata": {},
   "source": [
    "### Load GEX Data into DataFrame"
   ]
  },
  {
   "cell_type": "code",
   "execution_count": 2,
   "metadata": {},
   "outputs": [
    {
     "name": "stdout",
     "output_type": "stream",
     "text": [
      "dup genes\n",
      "['7SK', 'Y_RNA', 'NPIPA7', 'ZNF747', 'SLC25A10', 'GOLGA7B', 'ITFG3', 'TLR9', 'DEFB130', 'TIMM10B', 'SIGLEC5', 'HOXC4', 'TM4SF19', 'CRIP1', 'ZNF286A', 'PSMA1', 'AQP1', 'MDGA2', 'ANKRD18A', 'ALG9', 'CLN3', 'TMEM236', 'CELF6', 'KIAA0391', 'GALT', 'KLK9', 'DCAF8', 'ZNF788', 'TMEM239', 'TAP2', 'ZNF709', 'PNRC2', 'CHTF8', 'ZNF223', 'RBL1', 'KRBOX1', 'LCN6', 'PSMA2', 'RNASE11', 'SOGA3', 'FAM47E-STBD1', 'FRG2C', 'LSP1', 'SNORA40', 'SEPT1', 'KBTBD4', 'MRPS17', 'KIR3DL2', 'LTB4R2', 'SLC5A3', 'POLR2J2', 'SNURF', 'UGT2A1', 'OC90', 'CDRT1', 'SDHD', 'ZNF8', 'CRYBG3', 'U1', 'IER3IP1', 'ZNF763', 'EFNA3', 'MFRP', 'ZFP41', 'CCDC177', 'KRT222', 'TMBIM4', 'MUC3A', 'CKS1B', 'SRSF10', 'PI4K2A', 'IDS', 'MRPL30', 'TUBB3', 'NAA60', 'SHPK', 'LIMS3', 'CFB', 'SOX7', 'ACE', 'NDUFB8', 'ZNF26', 'ZNF668', 'RPP14', 'ITGB3', 'UQCR11', 'ZNF84', 'TM9SF1', 'PAGR1', 'PIK3R2', 'NDUFA7']\n"
     ]
    }
   ],
   "source": [
    "df['gex-ini'] = hf.load_crv2_gene_matrix('../data/pbmc3k_filtered_gene_bc_matrices_v2-cr/')"
   ]
  },
  {
   "cell_type": "code",
   "execution_count": 3,
   "metadata": {},
   "outputs": [],
   "source": [
    "rows = df['gex-ini'].index.tolist()"
   ]
  },
  {
   "cell_type": "code",
   "execution_count": 4,
   "metadata": {},
   "outputs": [
    {
     "name": "stdout",
     "output_type": "stream",
     "text": [
      "['7SK_1', '7SK_2', '7SK_3', '7SK_4']\n"
     ]
    }
   ],
   "source": [
    "found_rows = [x for x in rows if '7SK' in x]\n",
    "print(found_rows)"
   ]
  },
  {
   "cell_type": "code",
   "execution_count": null,
   "metadata": {},
   "outputs": [],
   "source": [
    "df['gex-ini'].shape"
   ]
  },
  {
   "cell_type": "code",
   "execution_count": null,
   "metadata": {},
   "outputs": [],
   "source": [
    "df['gex-ini'].head()"
   ]
  },
  {
   "cell_type": "markdown",
   "metadata": {},
   "source": [
    "### Checking Ensemble Gene IDS"
   ]
  },
  {
   "cell_type": "code",
   "execution_count": null,
   "metadata": {},
   "outputs": [],
   "source": [
    "filename = '../data/pbmc3k_filtered_gene_bc_matrices_v2-cr/genes.tsv'\n",
    "f = open(filename, 'r')\n",
    "lines = f.readlines()\n",
    "lines[0]"
   ]
  },
  {
   "cell_type": "code",
   "execution_count": null,
   "metadata": {},
   "outputs": [],
   "source": [
    "ens_list = []\n",
    "gene_list = []\n",
    "for inst_line in lines:\n",
    "    inst_line = inst_line.strip().split('\\t')\n",
    "    ens_list.append(inst_line[0])\n",
    "    gene_list.append(inst_line[1])"
   ]
  },
  {
   "cell_type": "code",
   "execution_count": null,
   "metadata": {},
   "outputs": [],
   "source": [
    "print(len(ens_list))\n",
    "print(len(list(set(ens_list))))"
   ]
  },
  {
   "cell_type": "code",
   "execution_count": null,
   "metadata": {},
   "outputs": [],
   "source": [
    "print(len(gene_list))\n",
    "print(len(list(set(gene_list))))"
   ]
  },
  {
   "cell_type": "code",
   "execution_count": null,
   "metadata": {},
   "outputs": [],
   "source": []
  }
 ],
 "metadata": {
  "kernelspec": {
   "display_name": "Python 3",
   "language": "python",
   "name": "python3"
  },
  "language_info": {
   "codemirror_mode": {
    "name": "ipython",
    "version": 3
   },
   "file_extension": ".py",
   "mimetype": "text/x-python",
   "name": "python",
   "nbconvert_exporter": "python",
   "pygments_lexer": "ipython3",
   "version": "3.6.5"
  }
 },
 "nbformat": 4,
 "nbformat_minor": 2
}
