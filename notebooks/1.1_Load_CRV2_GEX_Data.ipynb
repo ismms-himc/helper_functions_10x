{
 "cells": [
  {
   "cell_type": "markdown",
   "metadata": {},
   "source": [
    "# 1.0 Load CRV2 GEX Data\n",
    "\n",
    "MTX -> Sparse in-memory Format -> DataFrame (dense)"
   ]
  },
  {
   "cell_type": "code",
   "execution_count": 1,
   "metadata": {},
   "outputs": [],
   "source": [
    "import pandas as pd\n",
    "import helper_functions_10x as hf\n",
    "\n",
    "from typing import Dict\n",
    "\n",
    "# explicitly declare we're using a dictionary of DataFrames\n",
    "df:Dict[str,pd.DataFrame] = {}"
   ]
  },
  {
   "cell_type": "markdown",
   "metadata": {},
   "source": [
    "# working on loading"
   ]
  },
  {
   "cell_type": "code",
   "execution_count": 13,
   "metadata": {},
   "outputs": [],
   "source": [
    "import pandas as pd\n",
    "from scipy import io\n",
    "from scipy import sparse\n",
    "from ast import literal_eval as make_tuple"
   ]
  },
  {
   "cell_type": "code",
   "execution_count": 18,
   "metadata": {},
   "outputs": [],
   "source": [
    "inst_path = '../data/pbmc3k_filtered_gene_bc_matrices_v2-cr/'\n",
    "\n",
    "# matrix\n",
    "Matrix = io.mmread( inst_path + 'matrix.mtx')\n",
    "mat = Matrix.todense()\n",
    "\n",
    "# genes\n",
    "filename = inst_path + 'genes.tsv'\n",
    "f = open(filename, 'r')\n",
    "lines_genes = f.readlines()\n",
    "f.close()\n",
    "\n"
   ]
  },
  {
   "cell_type": "code",
   "execution_count": 19,
   "metadata": {},
   "outputs": [],
   "source": [
    "# genes\n",
    "filename = inst_path + 'genes.tsv'\n",
    "f = open(filename, 'r')\n",
    "lines_genes = f.readlines()\n",
    "f.close()\n",
    "\n",
    "# make unique gene names\n",
    "#############################\n",
    "gene_list = [x.strip().split('\\t') for x in lines_genes]\n",
    "\n",
    "# find non-unique initial gene names\n",
    "ini_names = [x[1] for x in gene_list]\n",
    "\n",
    "ini_name_count = pd.Series(ini_names).value_counts()\n",
    "duplicate_names = ini_name_count[ini_name_count > 1].index.tolist()\n",
    "new_names = [x[1] if x[1] not in duplicate_names else x[1] + '_' + x[0] for x in gene_list]"
   ]
  },
  {
   "cell_type": "code",
   "execution_count": 27,
   "metadata": {},
   "outputs": [],
   "source": []
  },
  {
   "cell_type": "code",
   "execution_count": 29,
   "metadata": {},
   "outputs": [
    {
     "name": "stdout",
     "output_type": "stream",
     "text": [
      "32738\n",
      "32738\n"
     ]
    }
   ],
   "source": [
    "print(len(new_names))\n",
    "print(len(list(set(new_names))))"
   ]
  },
  {
   "cell_type": "code",
   "execution_count": 33,
   "metadata": {},
   "outputs": [],
   "source": [
    "def load_crv2_gene_matrix(inst_path):\n",
    "    '''\n",
    "    Loads gene expression data from 10x in sparse matrix format and returns a\n",
    "    Pandas dataframe\n",
    "    '''\n",
    "\n",
    "    import pandas as pd\n",
    "    from scipy import io\n",
    "    from scipy import sparse\n",
    "    from ast import literal_eval as make_tuple\n",
    "\n",
    "    # matrix\n",
    "    Matrix = io.mmread( inst_path + 'matrix.mtx')\n",
    "    mat = Matrix.todense()\n",
    "\n",
    "#     # genes\n",
    "#     filename = inst_path + 'genes.tsv'\n",
    "#     f = open(filename, 'r')\n",
    "#     lines = f.readlines()\n",
    "#     f.close()\n",
    "    \n",
    "    # genes\n",
    "    filename = inst_path + 'genes.tsv'\n",
    "    f = open(filename, 'r')\n",
    "    lines_genes = f.readlines()\n",
    "    f.close()\n",
    "\n",
    "    # make unique gene names\n",
    "    #############################\n",
    "    gene_list = [x.strip().split('\\t') for x in lines_genes]\n",
    "\n",
    "    # find non-unique initial gene names\n",
    "    ini_names = [x[1] for x in gene_list]\n",
    "\n",
    "    ini_name_count = pd.Series(ini_names).value_counts()\n",
    "    duplicate_names = ini_name_count[ini_name_count > 1].index.tolist()\n",
    "    genes = [x[1] if x[1] not in duplicate_names else x[1] + '_' + x[0] for x in gene_list]    \n",
    "\n",
    "    \n",
    "#     # add unique id only to duplicate genes\n",
    "#     ###########################################################    \n",
    "#     ini_genes = []\n",
    "#     for inst_line in lines:\n",
    "#         inst_line = inst_line.strip().split()\n",
    "#         if len(inst_line) > 1:\n",
    "#           inst_gene = inst_line[1]\n",
    "#         else:\n",
    "#           inst_gene = inst_line[0]\n",
    "#         ini_genes.append(inst_gene)\n",
    "\n",
    "#     gene_name_count = pd.Series(ini_genes).value_counts()\n",
    "#     duplicate_genes = gene_name_count[gene_name_count > 1].index.tolist()\n",
    "\n",
    "#     print('dup genes')\n",
    "#     print(duplicate_genes)\n",
    "\n",
    "#     dup_index = {}\n",
    "#     genes = []\n",
    "#     for inst_row in ini_genes:\n",
    "\n",
    "#       # add index to non-unique genes\n",
    "#       if inst_row in duplicate_genes:\n",
    "\n",
    "#         # calc_non-unque index\n",
    "#         if inst_row not in dup_index:\n",
    "#           dup_index[inst_row] = 1\n",
    "#         else:\n",
    "#           dup_index[inst_row] = dup_index[inst_row] + 1\n",
    "\n",
    "#         new_row = inst_row + '_' + str(dup_index[inst_row])\n",
    "\n",
    "#       else:\n",
    "#         new_row = inst_row\n",
    "\n",
    "#       genes.append(new_row)\n",
    "    \n",
    "#     ###########################################################\n",
    "\n",
    "    # barcodes\n",
    "    filename = inst_path + 'barcodes.tsv'\n",
    "    f = open(filename, 'r')\n",
    "    lines = f.readlines()\n",
    "    f.close()\n",
    "\n",
    "    cell_barcodes = []\n",
    "    for inst_bc in lines:\n",
    "        inst_bc = inst_bc.strip().split('\\t')\n",
    "\n",
    "        # remove dash from barcodes if necessary\n",
    "        if '-' in inst_bc[0]:\n",
    "          inst_bc[0] = inst_bc[0].split('-')[0]\n",
    "\n",
    "        cell_barcodes.append(inst_bc[0])\n",
    "\n",
    "    # parse tuples if necessary\n",
    "    try:\n",
    "        cell_barcodes = [make_tuple(x) for x in cell_barcodes]\n",
    "    except:\n",
    "        pass\n",
    "\n",
    "    try:\n",
    "        genes = [make_tuple(x) for x in genes]\n",
    "    except:\n",
    "        pass\n",
    "\n",
    "    # make dataframe\n",
    "    df = pd.DataFrame(mat, index=genes, columns=cell_barcodes)\n",
    "    \n",
    "    ### change ouput to feature_data\n",
    "\n",
    "    return df"
   ]
  },
  {
   "cell_type": "markdown",
   "metadata": {},
   "source": [
    "### Load GEX Data into DataFrame"
   ]
  },
  {
   "cell_type": "code",
   "execution_count": 36,
   "metadata": {},
   "outputs": [],
   "source": [
    "df = {}"
   ]
  },
  {
   "cell_type": "code",
   "execution_count": 37,
   "metadata": {},
   "outputs": [],
   "source": [
    "df['gex-ini'] = load_crv2_gene_matrix('../data/pbmc3k_filtered_gene_bc_matrices_v2-cr/')"
   ]
  },
  {
   "cell_type": "code",
   "execution_count": 38,
   "metadata": {},
   "outputs": [],
   "source": [
    "rows = df['gex-ini'].index.tolist()"
   ]
  },
  {
   "cell_type": "code",
   "execution_count": 39,
   "metadata": {},
   "outputs": [
    {
     "name": "stdout",
     "output_type": "stream",
     "text": [
      "['7SK_ENSG00000249352', '7SK_ENSG00000254144', '7SK_ENSG00000260682', '7SK_ENSG00000232512']\n"
     ]
    }
   ],
   "source": [
    "found_rows = [x for x in rows if '7SK' in x]\n",
    "print(found_rows)"
   ]
  },
  {
   "cell_type": "code",
   "execution_count": 40,
   "metadata": {},
   "outputs": [
    {
     "name": "stdout",
     "output_type": "stream",
     "text": [
      "32738\n",
      "32738\n"
     ]
    }
   ],
   "source": [
    "rows = df['gex-ini'].index.tolist()\n",
    "print(len(rows))\n",
    "print(len(list(set(rows))))"
   ]
  },
  {
   "cell_type": "code",
   "execution_count": null,
   "metadata": {},
   "outputs": [],
   "source": [
    "df['gex-ini'].shape"
   ]
  },
  {
   "cell_type": "code",
   "execution_count": null,
   "metadata": {},
   "outputs": [],
   "source": [
    "df['gex-ini'].head()"
   ]
  },
  {
   "cell_type": "markdown",
   "metadata": {},
   "source": [
    "### Checking Ensemble Gene IDS"
   ]
  },
  {
   "cell_type": "code",
   "execution_count": null,
   "metadata": {},
   "outputs": [],
   "source": [
    "filename = '../data/pbmc3k_filtered_gene_bc_matrices_v2-cr/genes.tsv'\n",
    "f = open(filename, 'r')\n",
    "lines = f.readlines()\n",
    "lines[0]"
   ]
  },
  {
   "cell_type": "code",
   "execution_count": null,
   "metadata": {},
   "outputs": [],
   "source": [
    "ens_list = []\n",
    "gene_list = []\n",
    "for inst_line in lines:\n",
    "    inst_line = inst_line.strip().split('\\t')\n",
    "    ens_list.append(inst_line[0])\n",
    "    gene_list.append(inst_line[1])"
   ]
  },
  {
   "cell_type": "code",
   "execution_count": null,
   "metadata": {},
   "outputs": [],
   "source": [
    "print(len(ens_list))\n",
    "print(len(list(set(ens_list))))"
   ]
  },
  {
   "cell_type": "code",
   "execution_count": null,
   "metadata": {},
   "outputs": [],
   "source": [
    "print(len(gene_list))\n",
    "print(len(list(set(gene_list))))"
   ]
  },
  {
   "cell_type": "code",
   "execution_count": null,
   "metadata": {},
   "outputs": [],
   "source": []
  }
 ],
 "metadata": {
  "kernelspec": {
   "display_name": "Python 3",
   "language": "python",
   "name": "python3"
  },
  "language_info": {
   "codemirror_mode": {
    "name": "ipython",
    "version": 3
   },
   "file_extension": ".py",
   "mimetype": "text/x-python",
   "name": "python",
   "nbconvert_exporter": "python",
   "pygments_lexer": "ipython3",
   "version": "3.6.5"
  }
 },
 "nbformat": 4,
 "nbformat_minor": 2
}
